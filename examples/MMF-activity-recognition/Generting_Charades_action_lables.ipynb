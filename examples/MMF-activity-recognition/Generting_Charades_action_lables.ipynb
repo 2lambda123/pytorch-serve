{
 "cells": [
  {
   "cell_type": "code",
   "execution_count": null,
   "id": "accepting-volunteer",
   "metadata": {},
   "outputs": [],
   "source": [
    "! wget https://ai2-public-datasets.s3-us-west-2.amazonaws.com/charades/Charades_v1_480.zip\n",
    "    \n",
    "!wget https://ai2-public-datasets.s3-us-west-2.amazonaws.com/charades/Charades.zip"
   ]
  },
  {
   "cell_type": "code",
   "execution_count": null,
   "id": "encouraging-campaign",
   "metadata": {},
   "outputs": [],
   "source": [
    "! unzip Charades_v1_480.zip\n",
    "! unzip Charades.zip"
   ]
  },
  {
   "cell_type": "code",
   "execution_count": null,
   "id": "automatic-hamilton",
   "metadata": {},
   "outputs": [],
   "source": [
    "def make_charades_df(csv_path, video_dir, classes_file):\n",
    "    # load the csv\n",
    "    df = pd.read_csv(csv_path)\n",
    "    \n",
    "    # transform the id to a pathname\n",
    "    df['path'] = df['id'].map(lambda x: '{}{}.mp4'.format(video_dir, x))\n",
    "    \n",
    "    # parse action labels\n",
    "    df['action_labels'] = df['actions'].map(\n",
    "        lambda x: [l.split(' ')[0] for l in x.split(';')] if pd.notnull(x) else []\n",
    "    )\n",
    "    \n",
    "    # load id to class map\n",
    "    with open(classes_file, 'r') as f:\n",
    "        class_names = f.readlines()\n",
    "    \n",
    "    id2classname = {}\n",
    "    for c in class_names:\n",
    "        class_id = c.split(' ')[0]\n",
    "        class_name = ' '.join(c.split(' ')[1:]).strip('\\n')\n",
    "        id2classname[class_id] = class_name\n",
    "    \n",
    "    # transform label ids to names\n",
    "    df['action_labels'] = df['action_labels'].map(\n",
    "        lambda x:[id2classname[class_id] for class_id in x]\n",
    "    )\n",
    "    \n",
    "    # filter only these videos that actually exist\n",
    "    df_exists = df[df['path'].map(lambda x: Path(x).exists())]\n",
    "    "
   ]
  },
  {
   "cell_type": "code",
   "execution_count": null,
   "id": "wanted-stanley",
   "metadata": {},
   "outputs": [],
   "source": [
    "video_dir = 'Charades_v1_480/'\n",
    "charades_classes_file = 'Charades/Charades_v1_classes.txt'\n",
    "\n",
    "train_csv_path = 'Charades/Charades_v1_train.csv'"
   ]
  },
  {
   "cell_type": "code",
   "execution_count": null,
   "id": "meaning-presence",
   "metadata": {},
   "outputs": [],
   "source": [
    "import sys\n",
    "import pandas as pd\n",
    "from pathlib import Path"
   ]
  },
  {
   "cell_type": "code",
   "execution_count": null,
   "id": "blond-jumping",
   "metadata": {},
   "outputs": [],
   "source": [
    "# we get the df for training\n",
    "df_train = make_charades_df(\n",
    "    csv_path=train_csv_path, \n",
    "    video_dir=video_dir,\n",
    "    classes_file=charades_classes_file\n",
    ")\n",
    "\n",
    "df_train.to_csv(\"charades.csv\")"
   ]
  }
 ],
 "metadata": {
  "kernelspec": {
   "display_name": "Python 3",
   "language": "python",
   "name": "python3"
  },
  "language_info": {
   "codemirror_mode": {
    "name": "ipython",
    "version": 3
   },
   "file_extension": ".py",
   "mimetype": "text/x-python",
   "name": "python",
   "nbconvert_exporter": "python",
   "pygments_lexer": "ipython3",
   "version": "3.7.10"
  }
 },
 "nbformat": 4,
 "nbformat_minor": 5
}
