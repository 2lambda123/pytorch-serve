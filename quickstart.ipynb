{
 "cells": [
  {
   "cell_type": "code",
   "execution_count": 4,
   "metadata": {},
   "outputs": [
    {
     "name": "stdout",
     "output_type": "stream",
     "text": [
      "The autoreload extension is already loaded. To reload it, use:\n",
      "  %reload_ext autoreload\n",
      "kwargs={'initialize': <function initialize at 0x7f8ec6b21b20>, 'preprocess': <function preprocess at 0x7f8ec6b21580>, 'postprocess': <function postprocess at 0x7f8e5ce560c0>}\n",
      "\n",
      "from ts.torch_handler.base_handler import BaseHandler\n",
      "\n",
      "class CustomHandler(BaseHandler):\n",
      "\n",
      "    def preprocess(self, data):\n",
      "        return data\n",
      "\n",
      "\n",
      "    def inference(x):\n",
      "        return x\n",
      "\n",
      "    def postprocess(self, y):\n",
      "        return y\n",
      "\n",
      "\n"
     ]
    }
   ],
   "source": [
    "%load_ext autoreload\n",
    "%autoreload 2\n",
    "from ts.torch_handler.base_handler import BaseHandler\n",
    "from ts.deploy import deploy, deployable\n",
    "    \n",
    "\n",
    "def initialize(self, ctx):\n",
    "    self.ctx = ctx\n",
    "    pass\n",
    "\n",
    "def preprocess(self, data):\n",
    "    return data\n",
    "\n",
    "def postprocess(self, y):\n",
    "    return y\n",
    "\n",
    "@deployable(\n",
    "    BaseHandler,\n",
    "    initialize=initialize,\n",
    "    preprocess=preprocess,\n",
    "    postprocess=postprocess,\n",
    "    )\n",
    "def inference(x):\n",
    "    return x\n",
    "\n",
    "\n",
    "\n",
    "\n",
    "    \n",
    "deploy(inference)"
   ]
  },
  {
   "cell_type": "code",
   "execution_count": null,
   "metadata": {},
   "outputs": [],
   "source": []
  },
  {
   "cell_type": "code",
   "execution_count": null,
   "metadata": {},
   "outputs": [],
   "source": []
  }
 ],
 "metadata": {
  "kernelspec": {
   "display_name": "serve",
   "language": "python",
   "name": "python3"
  },
  "language_info": {
   "codemirror_mode": {
    "name": "ipython",
    "version": 3
   },
   "file_extension": ".py",
   "mimetype": "text/x-python",
   "name": "python",
   "nbconvert_exporter": "python",
   "pygments_lexer": "ipython3",
   "version": "3.11.5"
  }
 },
 "nbformat": 4,
 "nbformat_minor": 2
}
